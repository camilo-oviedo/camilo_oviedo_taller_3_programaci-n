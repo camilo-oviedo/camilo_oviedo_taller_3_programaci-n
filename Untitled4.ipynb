{
  "nbformat": 4,
  "nbformat_minor": 0,
  "metadata": {
    "colab": {
      "provenance": [],
      "authorship_tag": "ABX9TyPm91z9f64Rpsdk7awfdS/t",
      "include_colab_link": true
    },
    "kernelspec": {
      "name": "python3",
      "display_name": "Python 3"
    },
    "language_info": {
      "name": "python"
    }
  },
  "cells": [
    {
      "cell_type": "markdown",
      "metadata": {
        "id": "view-in-github",
        "colab_type": "text"
      },
      "source": [
        "<a href=\"https://colab.research.google.com/github/camilo-oviedo/camilo_oviedo_taller_3_programaci-n/blob/main/Untitled4.ipynb\" target=\"_parent\"><img src=\"https://colab.research.google.com/assets/colab-badge.svg\" alt=\"Open In Colab\"/></a>"
      ]
    },
    {
      "cell_type": "code",
      "execution_count": 1,
      "metadata": {
        "colab": {
          "base_uri": "https://localhost:8080/"
        },
        "id": "-SwXpQRPAD3R",
        "outputId": "6cfd5a5b-0c6b-4816-e153-7b734e432236"
      },
      "outputs": [
        {
          "output_type": "stream",
          "name": "stdout",
          "text": [
            "Ingrese su estrato socioeconómico: 1\n",
            "¿Vive en Montería? (S/N): n\n",
            "Ingrese su edad: 17\n",
            "Ingrese su promedio académico ponderado proyectado: 4\n",
            "El gasto total mensual es de $1311250.00\n"
          ]
        }
      ],
      "source": [
        "# Definir variables de entrada\n",
        "estrato = int(input(\"Ingrese su estrato socioeconómico: \"))\n",
        "lugar_residencia = input(\"¿Vive en Montería? (S/N): \")\n",
        "edad = int(input(\"Ingrese su edad: \"))\n",
        "promedio = float(input(\"Ingrese su promedio académico ponderado proyectado: \"))\n",
        "apoyo_transporte = 0\n",
        "apoyo_alimentacion = 0\n",
        "\n",
        "# Calcular apoyo de transporte\n",
        "if estrato == 1:\n",
        "  if edad < 18:\n",
        "    apoyo_transporte = 65000\n",
        "  else:\n",
        "    apoyo_transporte = 50000\n",
        "elif estrato == 2:\n",
        "  if edad < 18:\n",
        "    apoyo_transporte = 45000\n",
        "  else:\n",
        "    apoyo_transporte = 30000\n",
        "elif estrato == 3:\n",
        "  if edad < 18:\n",
        "    apoyo_transporte = 35000\n",
        "  else:\n",
        "    apoyo_transporte = 20000\n",
        "\n",
        "# Calcular apoyo de alimentación\n",
        "costo_alimentacion = 20000 * 20 # 20 días hábiles por mes\n",
        "if estrato == 1:\n",
        "  if edad < 18:\n",
        "    apoyo_alimentacion = costo_alimentacion * 0.9\n",
        "  else:\n",
        "    apoyo_alimentacion = costo_alimentacion * 0.7\n",
        "elif estrato == 2:\n",
        "  if edad < 18:\n",
        "    apoyo_alimentacion = costo_alimentacion * 0.7\n",
        "  else:\n",
        "    apoyo_alimentacion = costo_alimentacion * 0.5\n",
        "elif estrato == 3:\n",
        "  if edad < 18:\n",
        "    apoyo_alimentacion = costo_alimentacion * 0.5\n",
        "  else:\n",
        "    apoyo_alimentacion = costo_alimentacion * 0.3\n",
        "\n",
        "# Calcular costo de transporte\n",
        "if lugar_residencia.upper() == \"S\":\n",
        "  costo_transporte = 2800 * 2 * 20 # 20 días hábiles por mes\n",
        "else:\n",
        "  costo_transporte = 3500 * 2 * 20 # 20 días hábiles por mes\n",
        "\n",
        "# Calcular costo de matrícula\n",
        "if promedio > 4.8:\n",
        "  costo_matricula = 0\n",
        "elif promedio > 4.5:\n",
        "  costo_matricula = 5000000 * 0.3\n",
        "elif promedio > 4.0:\n",
        "  costo_matricula = 5000000 * 0.6\n",
        "else:\n",
        "  costo_matricula = 5000000\n",
        "\n",
        "# Calcular gasto total mensual\n",
        "gasto_total = costo_transporte + apoyo_transporte + costo_alimentacion - apoyo_alimentacion + costo_matricula\n",
        "gasto_mensual = gasto_total / 4\n",
        "\n",
        "# Mostrar resultado\n",
        "print(f\"El gasto total mensual es de ${gasto_mensual:.2f}\")"
      ]
    },
    {
      "cell_type": "code",
      "source": [],
      "metadata": {
        "id": "FkDNCL4LD72H"
      },
      "execution_count": null,
      "outputs": []
    }
  ]
}